{
 "cells": [
  {
   "cell_type": "code",
   "execution_count": 1,
   "id": "cb112bc3",
   "metadata": {},
   "outputs": [
    {
     "name": "stdout",
     "output_type": "stream",
     "text": [
      "Repo root on sys.path: /Users/ayaanmayooq/Desktop/code/greener_side\n"
     ]
    }
   ],
   "source": [
    "from pathlib import Path\n",
    "import sys\n",
    "\n",
    "ROOT = Path.cwd().resolve().parent\n",
    "sys.path.insert(0, str(ROOT))\n",
    "\n",
    "print(\"Repo root on sys.path:\", ROOT)"
   ]
  },
  {
   "cell_type": "code",
   "execution_count": 2,
   "id": "afdf03cc",
   "metadata": {},
   "outputs": [
    {
     "ename": "FileNotFoundError",
     "evalue": "[Errno 2] No such file or directory: 'config.yaml'",
     "output_type": "error",
     "traceback": [
      "\u001b[31m---------------------------------------------------------------------------\u001b[39m",
      "\u001b[31mFileNotFoundError\u001b[39m                         Traceback (most recent call last)",
      "\u001b[36mCell\u001b[39m\u001b[36m \u001b[39m\u001b[32mIn[2]\u001b[39m\u001b[32m, line 1\u001b[39m\n\u001b[32m----> \u001b[39m\u001b[32m1\u001b[39m \u001b[38;5;28;01mfrom\u001b[39;00m\u001b[38;5;250m \u001b[39m\u001b[34;01mutils\u001b[39;00m\u001b[34;01m.\u001b[39;00m\u001b[34;01mconfig\u001b[39;00m\u001b[38;5;250m \u001b[39m\u001b[38;5;28;01mimport\u001b[39;00m CFG, DATA_ROOT\n\u001b[32m      2\u001b[39m \u001b[38;5;28mprint\u001b[39m(\u001b[33m\"\u001b[39m\u001b[33mDATA_ROOT =\u001b[39m\u001b[33m\"\u001b[39m, DATA_ROOT)\n\u001b[32m      3\u001b[39m \u001b[38;5;28mprint\u001b[39m(\u001b[33m\"\u001b[39m\u001b[33mSymbols:\u001b[39m\u001b[33m\"\u001b[39m, CFG[\u001b[33m\"\u001b[39m\u001b[33msymbols\u001b[39m\u001b[33m\"\u001b[39m][\u001b[33m\"\u001b[39m\u001b[33mswing\u001b[39m\u001b[33m\"\u001b[39m])\n",
      "\u001b[36mFile \u001b[39m\u001b[32m~/Desktop/code/greener_side/utils/config.py:8\u001b[39m\n\u001b[32m      5\u001b[39m     \u001b[38;5;28;01mwith\u001b[39;00m \u001b[38;5;28mopen\u001b[39m(path, \u001b[33m\"\u001b[39m\u001b[33mr\u001b[39m\u001b[33m\"\u001b[39m) \u001b[38;5;28;01mas\u001b[39;00m f:\n\u001b[32m      6\u001b[39m         \u001b[38;5;28;01mreturn\u001b[39;00m yaml.safe_load(f)\n\u001b[32m----> \u001b[39m\u001b[32m8\u001b[39m CFG = \u001b[43mload_config\u001b[49m\u001b[43m(\u001b[49m\u001b[43m)\u001b[49m\n\u001b[32m      9\u001b[39m DATA_ROOT = Path(CFG.get(\u001b[33m\"\u001b[39m\u001b[33mdata_root\u001b[39m\u001b[33m\"\u001b[39m, \u001b[33m\"\u001b[39m\u001b[33m./data\u001b[39m\u001b[33m\"\u001b[39m)).resolve()\n\u001b[32m     10\u001b[39m DATA_ROOT.mkdir(parents=\u001b[38;5;28;01mTrue\u001b[39;00m, exist_ok=\u001b[38;5;28;01mTrue\u001b[39;00m)\n",
      "\u001b[36mFile \u001b[39m\u001b[32m~/Desktop/code/greener_side/utils/config.py:5\u001b[39m, in \u001b[36mload_config\u001b[39m\u001b[34m(path)\u001b[39m\n\u001b[32m      4\u001b[39m \u001b[38;5;28;01mdef\u001b[39;00m\u001b[38;5;250m \u001b[39m\u001b[34mload_config\u001b[39m(path: \u001b[38;5;28mstr\u001b[39m = \u001b[33m\"\u001b[39m\u001b[33mconfig.yaml\u001b[39m\u001b[33m\"\u001b[39m):\n\u001b[32m----> \u001b[39m\u001b[32m5\u001b[39m     \u001b[38;5;28;01mwith\u001b[39;00m \u001b[38;5;28;43mopen\u001b[39;49m\u001b[43m(\u001b[49m\u001b[43mpath\u001b[49m\u001b[43m,\u001b[49m\u001b[43m \u001b[49m\u001b[33;43m\"\u001b[39;49m\u001b[33;43mr\u001b[39;49m\u001b[33;43m\"\u001b[39;49m\u001b[43m)\u001b[49m \u001b[38;5;28;01mas\u001b[39;00m f:\n\u001b[32m      6\u001b[39m         \u001b[38;5;28;01mreturn\u001b[39;00m yaml.safe_load(f)\n",
      "\u001b[31mFileNotFoundError\u001b[39m: [Errno 2] No such file or directory: 'config.yaml'"
     ]
    }
   ],
   "source": [
    "from utils.config import CFG, DATA_ROOT\n",
    "print(\"DATA_ROOT =\", DATA_ROOT)\n",
    "print(\"Symbols:\", CFG[\"symbols\"][\"swing\"])"
   ]
  },
  {
   "cell_type": "code",
   "execution_count": null,
   "id": "b104eb1b",
   "metadata": {},
   "outputs": [],
   "source": [
    "from utils.config import DATA_ROOT, CFG\n",
    "import pandas as pd\n",
    "from research.features.registry import build_features\n",
    "from backtest.strategies.prob_triple_barrier import ProbTripleBarrier\n",
    "\n",
    "sym = CFG[\"symbols\"][\"swing\"][0]\n",
    "bars = pd.read_parquet(DATA_ROOT / f\"processed/daily/symbol={sym}/bars.parquet\").sort_index()\n",
    "\n",
    "strat = ProbTripleBarrier(model_id=\"swing_xgb_prob_tp_v1\",\n",
    "                          G_mult=3.0, L_mult=1.0, horizon=10,\n",
    "                          margin=0.05, cost_bps=2.0)\n",
    "\n",
    "fe = build_features(sym, bars, strat.required_feature_keys(), DATA_ROOT)\n",
    "\n",
    "# Threshold math\n",
    "C = strat.cost_bps()/10000.0\n",
    "p_be = (strat.L_mult + C) / (strat.L_mult + strat.G_mult)\n",
    "p_thr = p_be + strat.margin\n",
    "\n",
    "stats = {\n",
    "    \"rows\": len(fe),\n",
    "    \"pred_rows\": int(fe[\"p_tp\"].notna().sum()),\n",
    "    \"p_thr\": float(p_thr),\n",
    "    \">thr\": int((fe[\"p_tp\"] > p_thr).sum()),\n",
    "    \">thr & 200dma\": int(((fe[\"p_tp\"] > p_thr) & (fe[\"adj_close\"] > fe[\"sma_200\"])).sum()),\n",
    "    \"p_mean\": float(fe[\"p_tp\"].mean()),\n",
    "    \"p_90\": float(fe[\"p_tp\"].quantile(0.90)),\n",
    "    \"p_95\": float(fe[\"p_tp\"].quantile(0.95)),\n",
    "    \"pred_start\": fe[\"p_tp\"].first_valid_index(),\n",
    "    \"pred_end\": fe[\"p_tp\"].last_valid_index(),\n",
    "}\n",
    "stats"
   ]
  }
 ],
 "metadata": {
  "kernelspec": {
   "display_name": ".venv",
   "language": "python",
   "name": "python3"
  },
  "language_info": {
   "codemirror_mode": {
    "name": "ipython",
    "version": 3
   },
   "file_extension": ".py",
   "mimetype": "text/x-python",
   "name": "python",
   "nbconvert_exporter": "python",
   "pygments_lexer": "ipython3",
   "version": "3.12.8"
  }
 },
 "nbformat": 4,
 "nbformat_minor": 5
}
