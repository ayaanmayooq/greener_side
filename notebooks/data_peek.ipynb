{
 "cells": [
  {
   "cell_type": "code",
   "execution_count": 12,
   "id": "bb120d80-67b4-45ac-9902-befec0fc3273",
   "metadata": {},
   "outputs": [],
   "source": [
    "import os, sys\n",
    "sys.path.append(os.path.abspath(\"..\"))  # allow `from utils...` imports\n",
    "\n",
    "import pandas as pd\n",
    "import numpy as np\n",
    "import matplotlib.pyplot as plt\n",
    "\n",
    "from pathlib import Path"
   ]
  },
  {
   "cell_type": "code",
   "execution_count": 13,
   "id": "3d04868f",
   "metadata": {},
   "outputs": [
    {
     "data": {
      "text/plain": [
       "'/Users/ayaanmayooq/Desktop/code/greener_side/notebooks'"
      ]
     },
     "execution_count": 13,
     "metadata": {},
     "output_type": "execute_result"
    }
   ],
   "source": [
    "pwd"
   ]
  },
  {
   "cell_type": "code",
   "execution_count": 14,
   "id": "21793805-03ae-4f61-9c96-72bb24df453e",
   "metadata": {},
   "outputs": [
    {
     "data": {
      "text/html": [
       "<div>\n",
       "<style scoped>\n",
       "    .dataframe tbody tr th:only-of-type {\n",
       "        vertical-align: middle;\n",
       "    }\n",
       "\n",
       "    .dataframe tbody tr th {\n",
       "        vertical-align: top;\n",
       "    }\n",
       "\n",
       "    .dataframe thead tr th {\n",
       "        text-align: left;\n",
       "    }\n",
       "\n",
       "    .dataframe thead tr:last-of-type th {\n",
       "        text-align: right;\n",
       "    }\n",
       "</style>\n",
       "<table border=\"1\" class=\"dataframe\">\n",
       "  <thead>\n",
       "    <tr>\n",
       "      <th>Price</th>\n",
       "      <th>open</th>\n",
       "      <th>high</th>\n",
       "      <th>low</th>\n",
       "      <th>close</th>\n",
       "      <th>volume</th>\n",
       "      <th>adj_close</th>\n",
       "    </tr>\n",
       "    <tr>\n",
       "      <th>Ticker</th>\n",
       "      <th>spy</th>\n",
       "      <th>spy</th>\n",
       "      <th>spy</th>\n",
       "      <th>spy</th>\n",
       "      <th>spy</th>\n",
       "      <th></th>\n",
       "    </tr>\n",
       "    <tr>\n",
       "      <th>Date</th>\n",
       "      <th></th>\n",
       "      <th></th>\n",
       "      <th></th>\n",
       "      <th></th>\n",
       "      <th></th>\n",
       "      <th></th>\n",
       "    </tr>\n",
       "  </thead>\n",
       "  <tbody>\n",
       "    <tr>\n",
       "      <th>2025-08-06</th>\n",
       "      <td>629.049988</td>\n",
       "      <td>633.440002</td>\n",
       "      <td>628.130005</td>\n",
       "      <td>632.780029</td>\n",
       "      <td>64357500</td>\n",
       "      <td>632.780029</td>\n",
       "    </tr>\n",
       "    <tr>\n",
       "      <th>2025-08-07</th>\n",
       "      <td>636.239990</td>\n",
       "      <td>636.979980</td>\n",
       "      <td>629.109985</td>\n",
       "      <td>632.250000</td>\n",
       "      <td>74205800</td>\n",
       "      <td>632.250000</td>\n",
       "    </tr>\n",
       "    <tr>\n",
       "      <th>2025-08-08</th>\n",
       "      <td>634.059998</td>\n",
       "      <td>637.650024</td>\n",
       "      <td>633.739990</td>\n",
       "      <td>637.179993</td>\n",
       "      <td>63902600</td>\n",
       "      <td>637.179993</td>\n",
       "    </tr>\n",
       "  </tbody>\n",
       "</table>\n",
       "</div>"
      ],
      "text/plain": [
       "Price             open        high         low       close    volume  \\\n",
       "Ticker             spy         spy         spy         spy       spy   \n",
       "Date                                                                   \n",
       "2025-08-06  629.049988  633.440002  628.130005  632.780029  64357500   \n",
       "2025-08-07  636.239990  636.979980  629.109985  632.250000  74205800   \n",
       "2025-08-08  634.059998  637.650024  633.739990  637.179993  63902600   \n",
       "\n",
       "Price        adj_close  \n",
       "Ticker                  \n",
       "Date                    \n",
       "2025-08-06  632.780029  \n",
       "2025-08-07  632.250000  \n",
       "2025-08-08  637.179993  "
      ]
     },
     "execution_count": 14,
     "metadata": {},
     "output_type": "execute_result"
    }
   ],
   "source": [
    "sym = 'SPY'\n",
    "\n",
    "DATA_ROOT = '/Users/ayaanmayooq/Desktop/code/greener_side/data/'\n",
    "\n",
    "p = DATA_ROOT + f\"processed/daily/symbol={sym}/bars.parquet\"\n",
    "\n",
    "df = pd.read_parquet(p)\n",
    "df = df.sort_index()\n",
    "df.tail(3)"
   ]
  },
  {
   "cell_type": "code",
   "execution_count": 15,
   "id": "f07f0c50-1b38-40c2-80c7-49c6fdd51088",
   "metadata": {},
   "outputs": [
    {
     "data": {
      "text/plain": [
       "(5183, 6)"
      ]
     },
     "execution_count": 15,
     "metadata": {},
     "output_type": "execute_result"
    }
   ],
   "source": [
    "df.shape"
   ]
  },
  {
   "cell_type": "code",
   "execution_count": 16,
   "id": "c6d8f679-a002-4578-96b7-162ae468f25d",
   "metadata": {},
   "outputs": [
    {
     "data": {
      "text/plain": [
       "Timestamp('2005-01-03 00:00:00')"
      ]
     },
     "execution_count": 16,
     "metadata": {},
     "output_type": "execute_result"
    }
   ],
   "source": [
    "df.index.min()"
   ]
  },
  {
   "cell_type": "code",
   "execution_count": null,
   "id": "7a05425f-8e04-46e0-bf60-3a174eecc7ba",
   "metadata": {},
   "outputs": [],
   "source": []
  }
 ],
 "metadata": {
  "kernelspec": {
   "display_name": ".venv",
   "language": "python",
   "name": "python3"
  },
  "language_info": {
   "codemirror_mode": {
    "name": "ipython",
    "version": 3
   },
   "file_extension": ".py",
   "mimetype": "text/x-python",
   "name": "python",
   "nbconvert_exporter": "python",
   "pygments_lexer": "ipython3",
   "version": "3.12.8"
  }
 },
 "nbformat": 4,
 "nbformat_minor": 5
}
